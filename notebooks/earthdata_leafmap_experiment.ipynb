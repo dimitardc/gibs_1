{
 "cells": [
  {
   "cell_type": "code",
   "execution_count": null,
   "metadata": {},
   "outputs": [],
   "source": [
    "import leafmap\n",
    "from leafmap import leafmap\n",
    "import pandas as pd\n",
    "import requests\n",
    "import earthaccess\n",
    "import os"
   ]
  },
  {
   "cell_type": "code",
   "execution_count": null,
   "metadata": {},
   "outputs": [],
   "source": [
    "leafmap.nasa_data_login()\n",
    "# earthaccess.login()\n",
    "\n",
    "url = \"https://github.com/opengeos/NASA-Earth-Data/raw/main/nasa_earth_data.tsv\"\n",
    "df = pd.read_csv(url, sep=\"\\t\")\n",
    "df\n",
    "\n",
    "results, gdf = leafmap.nasa_data_search(\n",
    "    short_name=\"GEDI_L4A_AGB_Density_V2_1_2056\",\n",
    "    cloud_hosted=True,\n",
    "    bounding_box=(20.47, 40.85, 23.05, 42.36),\n",
    "    temporal=(\"2022-07-01\", \"2022-07-30\"),\n",
    "    count=10,  # use -1 to return all datasets\n",
    "    return_gdf=True,\n",
    ")\n",
    "\n",
    "# this is just to show the map\n",
    "# gdf.explore()\n",
    "\n",
    "# For downloading - comment this line if youre just testing\n",
    "leafmap.nasa_data_download(results[0], out_dir=\"../data\")"
   ]
  },
  {
   "cell_type": "markdown",
   "metadata": {},
   "source": [
    "### A map with the capability to search earthdata datasets"
   ]
  },
  {
   "cell_type": "code",
   "execution_count": null,
   "metadata": {},
   "outputs": [],
   "source": [
    "m = leafmap.Map()\n",
    "m.add(\"nasa_earth_data\")\n",
    "m"
   ]
  }
 ],
 "metadata": {
  "kernelspec": {
   "display_name": "Python 3",
   "language": "python",
   "name": "python3"
  },
  "language_info": {
   "codemirror_mode": {
    "name": "ipython",
    "version": 3
   },
   "file_extension": ".py",
   "mimetype": "text/x-python",
   "name": "python",
   "nbconvert_exporter": "python",
   "pygments_lexer": "ipython3",
   "version": "3.12.2"
  }
 },
 "nbformat": 4,
 "nbformat_minor": 2
}
