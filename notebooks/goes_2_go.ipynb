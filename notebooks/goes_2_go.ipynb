{
 "cells": [
  {
   "cell_type": "code",
   "execution_count": null,
   "metadata": {},
   "outputs": [],
   "source": [
    "from goes2go import GOES\n",
    "\n",
    "# ABI Multi-Channel Cloud Moisture Imagry Product\n",
    "G = GOES(satellite=16, product=\"ABI-L2-MCMIP\", domain='F')\n"
   ]
  },
  {
   "cell_type": "code",
   "execution_count": null,
   "metadata": {},
   "outputs": [],
   "source": [
    "import matplotlib.pyplot as plt\n",
    "ds = GOES().latest()\n",
    "ax = plt.subplot(projection=ds.rgb.crs)\n",
    "ax.imshow(ds.rgb.TrueColor(), **ds.rgb.imshow_kwargs)\n",
    "ax.coastlines()"
   ]
  }
 ],
 "metadata": {
  "kernelspec": {
   "display_name": "Python 3",
   "language": "python",
   "name": "python3"
  },
  "language_info": {
   "codemirror_mode": {
    "name": "ipython",
    "version": 3
   },
   "file_extension": ".py",
   "mimetype": "text/x-python",
   "name": "python",
   "nbconvert_exporter": "python",
   "pygments_lexer": "ipython3",
   "version": "3.12.2"
  }
 },
 "nbformat": 4,
 "nbformat_minor": 2
}
